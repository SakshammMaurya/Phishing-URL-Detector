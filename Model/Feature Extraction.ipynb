{
 "cells": [
  {
   "cell_type": "markdown",
   "id": "34330b71-85f5-4270-aa13-d08addf7119e",
   "metadata": {},
   "source": [
    "# FEATURE EXTRACTION\n"
   ]
  },
  {
   "cell_type": "code",
   "execution_count": 2,
   "id": "fe8fc5f0-90ad-4cf3-bd90-a55b875a3bbf",
   "metadata": {},
   "outputs": [],
   "source": [
    "import pandas as pd"
   ]
  },
  {
   "cell_type": "markdown",
   "id": "302c8b22-0ed0-410f-a82d-4dea43af4a63",
   "metadata": {},
   "source": [
    "## Collection Phishing Urls"
   ]
  },
  {
   "cell_type": "code",
   "execution_count": 4,
   "id": "023ba1cd-3bb9-41ef-a91a-b78d9ffc2097",
   "metadata": {},
   "outputs": [],
   "source": [
    "data0 = pd.read_csv('verified_online.csv')"
   ]
  },
  {
   "cell_type": "code",
   "execution_count": 5,
   "id": "f164c0b1-b25d-4809-9eea-2c40be2ff0b8",
   "metadata": {},
   "outputs": [
    {
     "data": {
      "text/html": [
       "<div>\n",
       "<style scoped>\n",
       "    .dataframe tbody tr th:only-of-type {\n",
       "        vertical-align: middle;\n",
       "    }\n",
       "\n",
       "    .dataframe tbody tr th {\n",
       "        vertical-align: top;\n",
       "    }\n",
       "\n",
       "    .dataframe thead th {\n",
       "        text-align: right;\n",
       "    }\n",
       "</style>\n",
       "<table border=\"1\" class=\"dataframe\">\n",
       "  <thead>\n",
       "    <tr style=\"text-align: right;\">\n",
       "      <th></th>\n",
       "      <th>phish_id</th>\n",
       "      <th>url</th>\n",
       "      <th>phish_detail_url</th>\n",
       "      <th>submission_time</th>\n",
       "      <th>verified</th>\n",
       "      <th>verification_time</th>\n",
       "      <th>online</th>\n",
       "      <th>target</th>\n",
       "    </tr>\n",
       "  </thead>\n",
       "  <tbody>\n",
       "    <tr>\n",
       "      <th>0</th>\n",
       "      <td>9150942</td>\n",
       "      <td>https://www-relayeur-coursiers.com/</td>\n",
       "      <td>http://www.phishtank.com/phish_detail.php?phis...</td>\n",
       "      <td>2025-07-09T13:09:08+00:00</td>\n",
       "      <td>yes</td>\n",
       "      <td>2025-07-09T13:11:58+00:00</td>\n",
       "      <td>yes</td>\n",
       "      <td>Other</td>\n",
       "    </tr>\n",
       "    <tr>\n",
       "      <th>1</th>\n",
       "      <td>9150941</td>\n",
       "      <td>https://www-relayeur-coursiers.com/as.php</td>\n",
       "      <td>http://www.phishtank.com/phish_detail.php?phis...</td>\n",
       "      <td>2025-07-09T13:08:52+00:00</td>\n",
       "      <td>yes</td>\n",
       "      <td>2025-07-09T13:11:58+00:00</td>\n",
       "      <td>yes</td>\n",
       "      <td>Other</td>\n",
       "    </tr>\n",
       "    <tr>\n",
       "      <th>2</th>\n",
       "      <td>9150940</td>\n",
       "      <td>https://blinq.me/EjbOT98AKv4H?bs=db</td>\n",
       "      <td>http://www.phishtank.com/phish_detail.php?phis...</td>\n",
       "      <td>2025-07-09T13:07:42+00:00</td>\n",
       "      <td>yes</td>\n",
       "      <td>2025-07-09T13:11:58+00:00</td>\n",
       "      <td>yes</td>\n",
       "      <td>Other</td>\n",
       "    </tr>\n",
       "    <tr>\n",
       "      <th>3</th>\n",
       "      <td>9150939</td>\n",
       "      <td>http://bt-1032963op4ewklas.weeblysite.com/</td>\n",
       "      <td>http://www.phishtank.com/phish_detail.php?phis...</td>\n",
       "      <td>2025-07-09T13:06:49+00:00</td>\n",
       "      <td>yes</td>\n",
       "      <td>2025-07-09T13:11:58+00:00</td>\n",
       "      <td>yes</td>\n",
       "      <td>Other</td>\n",
       "    </tr>\n",
       "    <tr>\n",
       "      <th>4</th>\n",
       "      <td>9150924</td>\n",
       "      <td>https://pay.acontecimentoinedito.site/order/36...</td>\n",
       "      <td>http://www.phishtank.com/phish_detail.php?phis...</td>\n",
       "      <td>2025-07-09T12:53:38+00:00</td>\n",
       "      <td>yes</td>\n",
       "      <td>2025-07-09T13:03:05+00:00</td>\n",
       "      <td>yes</td>\n",
       "      <td>Other</td>\n",
       "    </tr>\n",
       "  </tbody>\n",
       "</table>\n",
       "</div>"
      ],
      "text/plain": [
       "   phish_id                                                url  \\\n",
       "0   9150942                https://www-relayeur-coursiers.com/   \n",
       "1   9150941          https://www-relayeur-coursiers.com/as.php   \n",
       "2   9150940                https://blinq.me/EjbOT98AKv4H?bs=db   \n",
       "3   9150939         http://bt-1032963op4ewklas.weeblysite.com/   \n",
       "4   9150924  https://pay.acontecimentoinedito.site/order/36...   \n",
       "\n",
       "                                    phish_detail_url  \\\n",
       "0  http://www.phishtank.com/phish_detail.php?phis...   \n",
       "1  http://www.phishtank.com/phish_detail.php?phis...   \n",
       "2  http://www.phishtank.com/phish_detail.php?phis...   \n",
       "3  http://www.phishtank.com/phish_detail.php?phis...   \n",
       "4  http://www.phishtank.com/phish_detail.php?phis...   \n",
       "\n",
       "             submission_time verified          verification_time online target  \n",
       "0  2025-07-09T13:09:08+00:00      yes  2025-07-09T13:11:58+00:00    yes  Other  \n",
       "1  2025-07-09T13:08:52+00:00      yes  2025-07-09T13:11:58+00:00    yes  Other  \n",
       "2  2025-07-09T13:07:42+00:00      yes  2025-07-09T13:11:58+00:00    yes  Other  \n",
       "3  2025-07-09T13:06:49+00:00      yes  2025-07-09T13:11:58+00:00    yes  Other  \n",
       "4  2025-07-09T12:53:38+00:00      yes  2025-07-09T13:03:05+00:00    yes  Other  "
      ]
     },
     "execution_count": 5,
     "metadata": {},
     "output_type": "execute_result"
    }
   ],
   "source": [
    "data0.head()"
   ]
  },
  {
   "cell_type": "code",
   "execution_count": 6,
   "id": "6fdd6059-9ee9-453a-ae11-1d9533cbcc0a",
   "metadata": {},
   "outputs": [
    {
     "data": {
      "text/plain": [
       "(51400, 8)"
      ]
     },
     "execution_count": 6,
     "metadata": {},
     "output_type": "execute_result"
    }
   ],
   "source": [
    "data0.shape"
   ]
  },
  {
   "cell_type": "code",
   "execution_count": 7,
   "id": "42f88051-9fcd-452c-8128-ec8670661d27",
   "metadata": {},
   "outputs": [],
   "source": [
    "phishurl = data0.sample(5000, random_state = 12).copy()"
   ]
  },
  {
   "cell_type": "code",
   "execution_count": 8,
   "id": "ab2550f1-a783-482e-b52e-094668361e42",
   "metadata": {},
   "outputs": [
    {
     "data": {
      "text/plain": [
       "(5000, 8)"
      ]
     },
     "execution_count": 8,
     "metadata": {},
     "output_type": "execute_result"
    }
   ],
   "source": [
    "phishurl.shape"
   ]
  },
  {
   "cell_type": "code",
   "execution_count": 9,
   "id": "30681511-a4ae-4e26-83db-45ff9fb59cc5",
   "metadata": {},
   "outputs": [
    {
     "data": {
      "text/html": [
       "<div>\n",
       "<style scoped>\n",
       "    .dataframe tbody tr th:only-of-type {\n",
       "        vertical-align: middle;\n",
       "    }\n",
       "\n",
       "    .dataframe tbody tr th {\n",
       "        vertical-align: top;\n",
       "    }\n",
       "\n",
       "    .dataframe thead th {\n",
       "        text-align: right;\n",
       "    }\n",
       "</style>\n",
       "<table border=\"1\" class=\"dataframe\">\n",
       "  <thead>\n",
       "    <tr style=\"text-align: right;\">\n",
       "      <th></th>\n",
       "      <th>phish_id</th>\n",
       "      <th>url</th>\n",
       "      <th>phish_detail_url</th>\n",
       "      <th>submission_time</th>\n",
       "      <th>verified</th>\n",
       "      <th>verification_time</th>\n",
       "      <th>online</th>\n",
       "      <th>target</th>\n",
       "    </tr>\n",
       "  </thead>\n",
       "  <tbody>\n",
       "    <tr>\n",
       "      <th>0</th>\n",
       "      <td>8268686</td>\n",
       "      <td>https://new.express.adobe.com/webpage/GlEU7z3O...</td>\n",
       "      <td>http://www.phishtank.com/phish_detail.php?phis...</td>\n",
       "      <td>2023-08-22T12:12:10+00:00</td>\n",
       "      <td>yes</td>\n",
       "      <td>2023-08-22T13:03:29+00:00</td>\n",
       "      <td>yes</td>\n",
       "      <td>Other</td>\n",
       "    </tr>\n",
       "    <tr>\n",
       "      <th>1</th>\n",
       "      <td>8878887</td>\n",
       "      <td>https://flow.page/93849034</td>\n",
       "      <td>http://www.phishtank.com/phish_detail.php?phis...</td>\n",
       "      <td>2024-11-30T17:02:38+00:00</td>\n",
       "      <td>yes</td>\n",
       "      <td>2024-11-30T17:12:22+00:00</td>\n",
       "      <td>yes</td>\n",
       "      <td>Other</td>\n",
       "    </tr>\n",
       "    <tr>\n",
       "      <th>2</th>\n",
       "      <td>8019582</td>\n",
       "      <td>https://eciadalore.firebaseapp.com/</td>\n",
       "      <td>http://www.phishtank.com/phish_detail.php?phis...</td>\n",
       "      <td>2023-01-28T23:57:29+00:00</td>\n",
       "      <td>yes</td>\n",
       "      <td>2023-01-29T00:11:47+00:00</td>\n",
       "      <td>yes</td>\n",
       "      <td>Other</td>\n",
       "    </tr>\n",
       "    <tr>\n",
       "      <th>3</th>\n",
       "      <td>8706672</td>\n",
       "      <td>https://qrco.de/bfIfeJ</td>\n",
       "      <td>http://www.phishtank.com/phish_detail.php?phis...</td>\n",
       "      <td>2024-08-11T22:32:44+00:00</td>\n",
       "      <td>yes</td>\n",
       "      <td>2024-08-11T22:53:38+00:00</td>\n",
       "      <td>yes</td>\n",
       "      <td>Other</td>\n",
       "    </tr>\n",
       "    <tr>\n",
       "      <th>4</th>\n",
       "      <td>9072159</td>\n",
       "      <td>https://repermaiec.weebly.com/</td>\n",
       "      <td>http://www.phishtank.com/phish_detail.php?phis...</td>\n",
       "      <td>2025-04-23T20:49:52+00:00</td>\n",
       "      <td>yes</td>\n",
       "      <td>2025-04-23T21:02:58+00:00</td>\n",
       "      <td>yes</td>\n",
       "      <td>Other</td>\n",
       "    </tr>\n",
       "    <tr>\n",
       "      <th>...</th>\n",
       "      <td>...</td>\n",
       "      <td>...</td>\n",
       "      <td>...</td>\n",
       "      <td>...</td>\n",
       "      <td>...</td>\n",
       "      <td>...</td>\n",
       "      <td>...</td>\n",
       "      <td>...</td>\n",
       "    </tr>\n",
       "    <tr>\n",
       "      <th>4995</th>\n",
       "      <td>9064231</td>\n",
       "      <td>https://distribution-colis.com/check/calcul.php</td>\n",
       "      <td>http://www.phishtank.com/phish_detail.php?phis...</td>\n",
       "      <td>2025-04-16T16:19:46+00:00</td>\n",
       "      <td>yes</td>\n",
       "      <td>2025-04-16T22:32:06+00:00</td>\n",
       "      <td>yes</td>\n",
       "      <td>Other</td>\n",
       "    </tr>\n",
       "    <tr>\n",
       "      <th>4996</th>\n",
       "      <td>8843910</td>\n",
       "      <td>https://usppsw.znaxdui.shop/132b40d/XyokX3x-JH...</td>\n",
       "      <td>http://www.phishtank.com/phish_detail.php?phis...</td>\n",
       "      <td>2024-11-10T15:15:17+00:00</td>\n",
       "      <td>yes</td>\n",
       "      <td>2024-11-10T15:22:02+00:00</td>\n",
       "      <td>yes</td>\n",
       "      <td>Other</td>\n",
       "    </tr>\n",
       "    <tr>\n",
       "      <th>4997</th>\n",
       "      <td>9136650</td>\n",
       "      <td>http://wgxdr.cn</td>\n",
       "      <td>http://www.phishtank.com/phish_detail.php?phis...</td>\n",
       "      <td>2025-06-25T01:46:34+00:00</td>\n",
       "      <td>yes</td>\n",
       "      <td>2025-06-25T01:51:58+00:00</td>\n",
       "      <td>yes</td>\n",
       "      <td>AEON Card</td>\n",
       "    </tr>\n",
       "    <tr>\n",
       "      <th>4998</th>\n",
       "      <td>8922429</td>\n",
       "      <td>https://qrco.de/bfesLG</td>\n",
       "      <td>http://www.phishtank.com/phish_detail.php?phis...</td>\n",
       "      <td>2024-12-29T17:29:34+00:00</td>\n",
       "      <td>yes</td>\n",
       "      <td>2024-12-29T17:41:39+00:00</td>\n",
       "      <td>yes</td>\n",
       "      <td>Other</td>\n",
       "    </tr>\n",
       "    <tr>\n",
       "      <th>4999</th>\n",
       "      <td>8422144</td>\n",
       "      <td>https://qrco.de/behrL1</td>\n",
       "      <td>http://www.phishtank.com/phish_detail.php?phis...</td>\n",
       "      <td>2024-01-15T09:28:02+00:00</td>\n",
       "      <td>yes</td>\n",
       "      <td>2024-01-15T09:32:24+00:00</td>\n",
       "      <td>yes</td>\n",
       "      <td>Other</td>\n",
       "    </tr>\n",
       "  </tbody>\n",
       "</table>\n",
       "<p>5000 rows × 8 columns</p>\n",
       "</div>"
      ],
      "text/plain": [
       "      phish_id                                                url  \\\n",
       "0      8268686  https://new.express.adobe.com/webpage/GlEU7z3O...   \n",
       "1      8878887                         https://flow.page/93849034   \n",
       "2      8019582                https://eciadalore.firebaseapp.com/   \n",
       "3      8706672                             https://qrco.de/bfIfeJ   \n",
       "4      9072159                     https://repermaiec.weebly.com/   \n",
       "...        ...                                                ...   \n",
       "4995   9064231    https://distribution-colis.com/check/calcul.php   \n",
       "4996   8843910  https://usppsw.znaxdui.shop/132b40d/XyokX3x-JH...   \n",
       "4997   9136650                                    http://wgxdr.cn   \n",
       "4998   8922429                             https://qrco.de/bfesLG   \n",
       "4999   8422144                             https://qrco.de/behrL1   \n",
       "\n",
       "                                       phish_detail_url  \\\n",
       "0     http://www.phishtank.com/phish_detail.php?phis...   \n",
       "1     http://www.phishtank.com/phish_detail.php?phis...   \n",
       "2     http://www.phishtank.com/phish_detail.php?phis...   \n",
       "3     http://www.phishtank.com/phish_detail.php?phis...   \n",
       "4     http://www.phishtank.com/phish_detail.php?phis...   \n",
       "...                                                 ...   \n",
       "4995  http://www.phishtank.com/phish_detail.php?phis...   \n",
       "4996  http://www.phishtank.com/phish_detail.php?phis...   \n",
       "4997  http://www.phishtank.com/phish_detail.php?phis...   \n",
       "4998  http://www.phishtank.com/phish_detail.php?phis...   \n",
       "4999  http://www.phishtank.com/phish_detail.php?phis...   \n",
       "\n",
       "                submission_time verified          verification_time online  \\\n",
       "0     2023-08-22T12:12:10+00:00      yes  2023-08-22T13:03:29+00:00    yes   \n",
       "1     2024-11-30T17:02:38+00:00      yes  2024-11-30T17:12:22+00:00    yes   \n",
       "2     2023-01-28T23:57:29+00:00      yes  2023-01-29T00:11:47+00:00    yes   \n",
       "3     2024-08-11T22:32:44+00:00      yes  2024-08-11T22:53:38+00:00    yes   \n",
       "4     2025-04-23T20:49:52+00:00      yes  2025-04-23T21:02:58+00:00    yes   \n",
       "...                         ...      ...                        ...    ...   \n",
       "4995  2025-04-16T16:19:46+00:00      yes  2025-04-16T22:32:06+00:00    yes   \n",
       "4996  2024-11-10T15:15:17+00:00      yes  2024-11-10T15:22:02+00:00    yes   \n",
       "4997  2025-06-25T01:46:34+00:00      yes  2025-06-25T01:51:58+00:00    yes   \n",
       "4998  2024-12-29T17:29:34+00:00      yes  2024-12-29T17:41:39+00:00    yes   \n",
       "4999  2024-01-15T09:28:02+00:00      yes  2024-01-15T09:32:24+00:00    yes   \n",
       "\n",
       "         target  \n",
       "0         Other  \n",
       "1         Other  \n",
       "2         Other  \n",
       "3         Other  \n",
       "4         Other  \n",
       "...         ...  \n",
       "4995      Other  \n",
       "4996      Other  \n",
       "4997  AEON Card  \n",
       "4998      Other  \n",
       "4999      Other  \n",
       "\n",
       "[5000 rows x 8 columns]"
      ]
     },
     "execution_count": 9,
     "metadata": {},
     "output_type": "execute_result"
    }
   ],
   "source": [
    "phishurl.reset_index(drop = True) # these are the phishing urls"
   ]
  },
  {
   "cell_type": "markdown",
   "id": "7c879903-a077-4f9f-a5e9-cbe7d54102a1",
   "metadata": {},
   "source": [
    "## Collecting Legit Urls"
   ]
  },
  {
   "cell_type": "code",
   "execution_count": 11,
   "id": "ebfc2586-8b6f-4fdb-a707-449ceb82de98",
   "metadata": {},
   "outputs": [],
   "source": [
    "import os\n",
    "#print(os.path.isfile(\"Benign_list_big_final.csv\"))\n",
    "\n",
    "data1 = pd.read_csv(\"Benign.csv\")"
   ]
  },
  {
   "cell_type": "code",
   "execution_count": 12,
   "id": "b0df0bc8-4e75-4a10-ad5e-474e29da591e",
   "metadata": {},
   "outputs": [
    {
     "data": {
      "text/html": [
       "<div>\n",
       "<style scoped>\n",
       "    .dataframe tbody tr th:only-of-type {\n",
       "        vertical-align: middle;\n",
       "    }\n",
       "\n",
       "    .dataframe tbody tr th {\n",
       "        vertical-align: top;\n",
       "    }\n",
       "\n",
       "    .dataframe thead th {\n",
       "        text-align: right;\n",
       "    }\n",
       "</style>\n",
       "<table border=\"1\" class=\"dataframe\">\n",
       "  <thead>\n",
       "    <tr style=\"text-align: right;\">\n",
       "      <th></th>\n",
       "      <th>http://1337x.to/torrent/1048648/American-Sniper-2014-MD-iTALiAN-DVDSCR-X264-BST-MT/</th>\n",
       "    </tr>\n",
       "  </thead>\n",
       "  <tbody>\n",
       "    <tr>\n",
       "      <th>0</th>\n",
       "      <td>http://1337x.to/torrent/1110018/Blackhat-2015-...</td>\n",
       "    </tr>\n",
       "    <tr>\n",
       "      <th>1</th>\n",
       "      <td>http://1337x.to/torrent/1122940/Blackhat-2015-...</td>\n",
       "    </tr>\n",
       "    <tr>\n",
       "      <th>2</th>\n",
       "      <td>http://1337x.to/torrent/1124395/Fast-and-Furio...</td>\n",
       "    </tr>\n",
       "    <tr>\n",
       "      <th>3</th>\n",
       "      <td>http://1337x.to/torrent/1145504/Avengers-Age-o...</td>\n",
       "    </tr>\n",
       "    <tr>\n",
       "      <th>4</th>\n",
       "      <td>http://1337x.to/torrent/1160078/Avengers-age-o...</td>\n",
       "    </tr>\n",
       "  </tbody>\n",
       "</table>\n",
       "</div>"
      ],
      "text/plain": [
       "  http://1337x.to/torrent/1048648/American-Sniper-2014-MD-iTALiAN-DVDSCR-X264-BST-MT/\n",
       "0  http://1337x.to/torrent/1110018/Blackhat-2015-...                                 \n",
       "1  http://1337x.to/torrent/1122940/Blackhat-2015-...                                 \n",
       "2  http://1337x.to/torrent/1124395/Fast-and-Furio...                                 \n",
       "3  http://1337x.to/torrent/1145504/Avengers-Age-o...                                 \n",
       "4  http://1337x.to/torrent/1160078/Avengers-age-o...                                 "
      ]
     },
     "execution_count": 12,
     "metadata": {},
     "output_type": "execute_result"
    }
   ],
   "source": [
    "data1.head()"
   ]
  },
  {
   "cell_type": "code",
   "execution_count": 13,
   "id": "c09e4e20-71cc-4020-9c50-a40f5ace4412",
   "metadata": {},
   "outputs": [],
   "source": [
    "data1.columns = ['URLs']"
   ]
  },
  {
   "cell_type": "code",
   "execution_count": 14,
   "id": "85989d70-2731-47d5-8e23-8f657c94ad8f",
   "metadata": {},
   "outputs": [
    {
     "data": {
      "text/html": [
       "<div>\n",
       "<style scoped>\n",
       "    .dataframe tbody tr th:only-of-type {\n",
       "        vertical-align: middle;\n",
       "    }\n",
       "\n",
       "    .dataframe tbody tr th {\n",
       "        vertical-align: top;\n",
       "    }\n",
       "\n",
       "    .dataframe thead th {\n",
       "        text-align: right;\n",
       "    }\n",
       "</style>\n",
       "<table border=\"1\" class=\"dataframe\">\n",
       "  <thead>\n",
       "    <tr style=\"text-align: right;\">\n",
       "      <th></th>\n",
       "      <th>URLs</th>\n",
       "    </tr>\n",
       "  </thead>\n",
       "  <tbody>\n",
       "    <tr>\n",
       "      <th>0</th>\n",
       "      <td>http://1337x.to/torrent/1110018/Blackhat-2015-...</td>\n",
       "    </tr>\n",
       "    <tr>\n",
       "      <th>1</th>\n",
       "      <td>http://1337x.to/torrent/1122940/Blackhat-2015-...</td>\n",
       "    </tr>\n",
       "    <tr>\n",
       "      <th>2</th>\n",
       "      <td>http://1337x.to/torrent/1124395/Fast-and-Furio...</td>\n",
       "    </tr>\n",
       "    <tr>\n",
       "      <th>3</th>\n",
       "      <td>http://1337x.to/torrent/1145504/Avengers-Age-o...</td>\n",
       "    </tr>\n",
       "    <tr>\n",
       "      <th>4</th>\n",
       "      <td>http://1337x.to/torrent/1160078/Avengers-age-o...</td>\n",
       "    </tr>\n",
       "  </tbody>\n",
       "</table>\n",
       "</div>"
      ],
      "text/plain": [
       "                                                URLs\n",
       "0  http://1337x.to/torrent/1110018/Blackhat-2015-...\n",
       "1  http://1337x.to/torrent/1122940/Blackhat-2015-...\n",
       "2  http://1337x.to/torrent/1124395/Fast-and-Furio...\n",
       "3  http://1337x.to/torrent/1145504/Avengers-Age-o...\n",
       "4  http://1337x.to/torrent/1160078/Avengers-age-o..."
      ]
     },
     "execution_count": 14,
     "metadata": {},
     "output_type": "execute_result"
    }
   ],
   "source": [
    "data1.head()"
   ]
  },
  {
   "cell_type": "code",
   "execution_count": 15,
   "id": "d18e6b20-fd1f-429e-8bf4-8812ade35665",
   "metadata": {},
   "outputs": [
    {
     "data": {
      "text/html": [
       "<div>\n",
       "<style scoped>\n",
       "    .dataframe tbody tr th:only-of-type {\n",
       "        vertical-align: middle;\n",
       "    }\n",
       "\n",
       "    .dataframe tbody tr th {\n",
       "        vertical-align: top;\n",
       "    }\n",
       "\n",
       "    .dataframe thead th {\n",
       "        text-align: right;\n",
       "    }\n",
       "</style>\n",
       "<table border=\"1\" class=\"dataframe\">\n",
       "  <thead>\n",
       "    <tr style=\"text-align: right;\">\n",
       "      <th></th>\n",
       "      <th>URLs</th>\n",
       "    </tr>\n",
       "  </thead>\n",
       "  <tbody>\n",
       "    <tr>\n",
       "      <th>0</th>\n",
       "      <td>http://graphicriver.net/search?date=this-month...</td>\n",
       "    </tr>\n",
       "    <tr>\n",
       "      <th>1</th>\n",
       "      <td>http://ecnavi.jp/redirect/?url=http://www.cros...</td>\n",
       "    </tr>\n",
       "    <tr>\n",
       "      <th>2</th>\n",
       "      <td>https://hubpages.com/signin?explain=follow+Hub...</td>\n",
       "    </tr>\n",
       "    <tr>\n",
       "      <th>3</th>\n",
       "      <td>http://extratorrent.cc/torrent/4190536/AOMEI+B...</td>\n",
       "    </tr>\n",
       "    <tr>\n",
       "      <th>4</th>\n",
       "      <td>http://icicibank.com/Personal-Banking/offers/o...</td>\n",
       "    </tr>\n",
       "  </tbody>\n",
       "</table>\n",
       "</div>"
      ],
      "text/plain": [
       "                                                URLs\n",
       "0  http://graphicriver.net/search?date=this-month...\n",
       "1  http://ecnavi.jp/redirect/?url=http://www.cros...\n",
       "2  https://hubpages.com/signin?explain=follow+Hub...\n",
       "3  http://extratorrent.cc/torrent/4190536/AOMEI+B...\n",
       "4  http://icicibank.com/Personal-Banking/offers/o..."
      ]
     },
     "execution_count": 15,
     "metadata": {},
     "output_type": "execute_result"
    }
   ],
   "source": [
    "legiurl = data1.sample(5000, random_state = 12).copy()\n",
    "legiurl =legiurl.reset_index(drop = True)\n",
    "legiurl.head()"
   ]
  },
  {
   "cell_type": "code",
   "execution_count": 16,
   "id": "8c7c3d85-f9de-425e-9731-171449b90287",
   "metadata": {},
   "outputs": [
    {
     "data": {
      "text/plain": [
       "(5000, 1)"
      ]
     },
     "execution_count": 16,
     "metadata": {},
     "output_type": "execute_result"
    }
   ],
   "source": [
    "legiurl.shape"
   ]
  },
  {
   "cell_type": "markdown",
   "id": "afed9741-839f-4592-a635-757a4635f29f",
   "metadata": {},
   "source": [
    "## Now we have got two dataframes : phishurl (phishing urls) and legiurl (legit urls)"
   ]
  },
  {
   "cell_type": "markdown",
   "id": "b6a5cfba-dd93-47b7-9c4b-b00c638e1131",
   "metadata": {},
   "source": [
    "# 3. Feature Extraction\n",
    " In this step, features are extracted from the URLs dataset.\n",
    "\n",
    "The extracted features are categorized into\n",
    "\n",
    "1. Address Bar based Features\n",
    "2. Domain based Features\n",
    "3. HTML & Javascript based Features"
   ]
  },
  {
   "cell_type": "markdown",
   "id": "197e65cd-4e8e-4ebd-b74b-6ec5e90df7ba",
   "metadata": {},
   "source": [
    "## 3.1 Address Bar Based Features\n",
    "\n",
    "- Domain of URL\n",
    "- IP Address in URL\n",
    "- \"@\" Symbol in URL\n",
    "- Length of URL\n",
    "- Depth of URL\n",
    "- Redirection \"//\" in URL\n",
    "- \"http/https\" in Domain name\n",
    "- Using URL Shortening Services “TinyURL”\n",
    "- Prefix or Suffix \"-\" in Domain"
   ]
  },
  {
   "cell_type": "code",
   "execution_count": 20,
   "id": "f5b1d30b-f12a-4a47-9277-1cc1c2c329d6",
   "metadata": {},
   "outputs": [],
   "source": [
    "from urllib.parse import urlparse, urlencode\n",
    "import ipaddress\n",
    "import re"
   ]
  },
  {
   "cell_type": "code",
   "execution_count": 21,
   "id": "51f5a4f7-1444-4da3-9a63-b1d13b20a740",
   "metadata": {},
   "outputs": [],
   "source": [
    "#1 Domain of URL\n",
    "def getDomain(url):\n",
    "    domain = urlparse(url).netloc\n",
    "    if re.match(r\"^www\\.\", domain):\n",
    "        domain = domain.replace(\"www.\", \"\")\n",
    "    return domain\n",
    "# Example:\n",
    "#   getDomain(\"https://openai.com/blog\")\n",
    "#   Output: 'openai.com'"
   ]
  },
  {
   "cell_type": "code",
   "execution_count": 22,
   "id": "3868e18b-53a0-4e62-9319-736d6471827e",
   "metadata": {},
   "outputs": [
    {
     "name": "stdout",
     "output_type": "stream",
     "text": [
      "google.com\n"
     ]
    }
   ],
   "source": [
    "print(getDomain(\"https://www.google.com/search?q=test\"))"
   ]
  },
  {
   "cell_type": "code",
   "execution_count": 23,
   "id": "d4b001e3-0b8a-48ca-8d12-f4746381126e",
   "metadata": {},
   "outputs": [],
   "source": [
    "#2 IP address in the URL\n",
    "def havingIp(url):\n",
    "    try:\n",
    "        hostname = urlparse(url).netloc\n",
    "        # Remove port if present (e.g., 127.0.0.1:8080 → 127.0.0.1)\n",
    "        hostname = hostname.split(':')[0]\n",
    "        ipaddress.ip_address(hostname)\n",
    "        return 1\n",
    "    except:\n",
    "        return 0"
   ]
  },
  {
   "cell_type": "code",
   "execution_count": 24,
   "id": "74de2809-c8dd-4af7-bc97-898cb799146d",
   "metadata": {},
   "outputs": [
    {
     "name": "stdout",
     "output_type": "stream",
     "text": [
      "1\n"
     ]
    }
   ],
   "source": [
    "print(havingIp(\"http://192.168.0.1/page\"))"
   ]
  },
  {
   "cell_type": "code",
   "execution_count": 25,
   "id": "2e2bb978-9123-4aca-b920-9c35c0b8c88f",
   "metadata": {},
   "outputs": [],
   "source": [
    "#3 \"@\" Symbol in the URL\n",
    "def haveAtSign(url):\n",
    "    if \"@\" in url:\n",
    "        at = 1\n",
    "    else: at = 0\n",
    "    return at"
   ]
  },
  {
   "cell_type": "code",
   "execution_count": 26,
   "id": "97a2e851-5a12-4812-b8b6-23f810912cb1",
   "metadata": {},
   "outputs": [
    {
     "name": "stdout",
     "output_type": "stream",
     "text": [
      "1\n"
     ]
    }
   ],
   "source": [
    "print(haveAtSign(\"http//wwww.google@com\"))"
   ]
  },
  {
   "cell_type": "code",
   "execution_count": 27,
   "id": "ffe9bb85-6ee4-4ee0-9e41-b07352691494",
   "metadata": {},
   "outputs": [],
   "source": [
    "#4 Length of URL\n",
    "# If the length of URL >= 54 , the value assigned to this feature is 1 (phishing) or else 0 (legitimate).\n",
    "def getLength(url):\n",
    "    if len(url)<54:\n",
    "        length=0\n",
    "    else:\n",
    "        length=1\n",
    "    return length"
   ]
  },
  {
   "cell_type": "code",
   "execution_count": 28,
   "id": "265e0604-f8c1-411e-a06d-cd20f827786a",
   "metadata": {},
   "outputs": [],
   "source": [
    "#5 Depth of URL\n",
    "# Gives number of '/' in URL (URL_Depth)\n",
    "\n",
    "def getDepth(url):\n",
    "    s = urlparse(url).path.split('/')\n",
    "    depth = 0\n",
    "    for i in range(len(s)):\n",
    "        if len(s[i]) !=0:\n",
    "            depth = depth+1\n",
    "    return depth\n"
   ]
  },
  {
   "cell_type": "code",
   "execution_count": 29,
   "id": "f1292eb3-2550-4748-be8c-7e105eec1ff2",
   "metadata": {},
   "outputs": [],
   "source": [
    "#6 Redirection \"//\" in URL\n",
    "#  We find that if the URL starts with “HTTP”, that means the “//” should appear in the sixth position\n",
    "# However, if the URL employs “HTTPS” then the “//” should appear in seventh position.\n",
    "def redirection(url):\n",
    "    pos = url.rfind('//')\n",
    "    if pos > 6:\n",
    "        if pos > 7:\n",
    "            return 1\n",
    "        else: return 0\n",
    "    else: return 0"
   ]
  },
  {
   "cell_type": "code",
   "execution_count": 30,
   "id": "f8ee2421-eb9d-4e31-97dc-ad71018a5751",
   "metadata": {},
   "outputs": [],
   "source": [
    "#7. \"http/https\" in Domain name\n",
    "def httpDomain(url):\n",
    "    domain = urlparse(url).netloc\n",
    "    if 'https' in domain:\n",
    "        return 1\n",
    "    else: return 0"
   ]
  },
  {
   "cell_type": "code",
   "execution_count": 31,
   "id": "abfabee1-77f1-437f-a762-8c464719db8a",
   "metadata": {},
   "outputs": [],
   "source": [
    "#8. Using URL Shortening Services “TinyURL”\n",
    "#listing shortening services\n",
    "shortening_services = r\"bit\\.ly|goo\\.gl|shorte\\.st|go2l\\.ink|x\\.co|ow\\.ly|t\\.co|tinyurl|tr\\.im|is\\.gd|cli\\.gs|\" \\\n",
    "                      r\"yfrog\\.com|migre\\.me|ff\\.im|tiny\\.cc|url4\\.eu|twit\\.ac|su\\.pr|twurl\\.nl|snipurl\\.com|\" \\\n",
    "                      r\"short\\.to|BudURL\\.com|ping\\.fm|post\\.ly|Just\\.as|bkite\\.com|snipr\\.com|fic\\.kr|loopt\\.us|\" \\\n",
    "                      r\"doiop\\.com|short\\.ie|kl\\.am|wp\\.me|rubyurl\\.com|om\\.ly|to\\.ly|bit\\.do|t\\.co|lnkd\\.in|db\\.tt|\" \\\n",
    "                      r\"qr\\.ae|adf\\.ly|goo\\.gl|bitly\\.com|cur\\.lv|tinyurl\\.com|ow\\.ly|bit\\.ly|ity\\.im|q\\.gs|is\\.gd|\" \\\n",
    "                      r\"po\\.st|bc\\.vc|twitthis\\.com|u\\.to|j\\.mp|buzurl\\.com|cutt\\.us|u\\.bb|yourls\\.org|x\\.co|\" \\\n",
    "                      r\"prettylinkpro\\.com|scrnch\\.me|filoops\\.info|vzturl\\.com|qr\\.net|1url\\.com|tweez\\.me|v\\.gd|\" \\\n",
    "                      r\"tr\\.im|link\\.zip\\.net\""
   ]
  },
  {
   "cell_type": "code",
   "execution_count": 32,
   "id": "0c09d1f6-2969-4d0c-a8ed-e0dfda218d9b",
   "metadata": {},
   "outputs": [],
   "source": [
    "def tinyURL(url):\n",
    "    match=  re.search(shortening_services,url)\n",
    "    if match:\n",
    "        return 1\n",
    "    else: return 0"
   ]
  },
  {
   "cell_type": "code",
   "execution_count": 33,
   "id": "0c06433a-4bf0-438f-84d6-a2fb5ec7a425",
   "metadata": {},
   "outputs": [
    {
     "name": "stdout",
     "output_type": "stream",
     "text": [
      "1\n"
     ]
    }
   ],
   "source": [
    "#example\n",
    "print(tinyURL(\"https://bit.ly/3abcXYZ\"))"
   ]
  },
  {
   "cell_type": "code",
   "execution_count": 34,
   "id": "4182fe22-964d-403c-be60-0a928b7480cf",
   "metadata": {},
   "outputs": [],
   "source": [
    "#9. Prefix or Suffix \"-\" in Domain\n",
    "#If the URL has '-' symbol in the domain part of the URL, the value assigned to this feature\n",
    "#is 1 (phishing) or else 0 (legitimate).\n",
    "def prefixSuffix(url):\n",
    "    if '-' in urlparse(url).netloc:\n",
    "        return 1\n",
    "    else: return 0"
   ]
  },
  {
   "cell_type": "markdown",
   "id": "5201d95d-4400-45ef-b4b5-429ac1a6aced",
   "metadata": {},
   "source": [
    "## 3.2 Domain Based Features"
   ]
  },
  {
   "cell_type": "markdown",
   "id": "5401ff4c-0693-4e3b-b0ff-4304310c580f",
   "metadata": {},
   "source": [
    "- DNS Record\n",
    "- Website Traffic\n",
    "- Age of Domain\n",
    "- End Period of Domain"
   ]
  },
  {
   "cell_type": "code",
   "execution_count": 37,
   "id": "e270afeb-256f-4d3f-be47-65c4eae0d03e",
   "metadata": {},
   "outputs": [
    {
     "name": "stdout",
     "output_type": "stream",
     "text": [
      "Defaulting to user installation because normal site-packages is not writeable\n",
      "Requirement already satisfied: python-whois in c:\\users\\saksh\\appdata\\roaming\\python\\python312\\site-packages (0.9.5)\n",
      "Requirement already satisfied: python-dateutil in d:\\anaconda\\lib\\site-packages (from python-whois) (2.9.0.post0)\n",
      "Requirement already satisfied: six>=1.5 in d:\\anaconda\\lib\\site-packages (from python-dateutil->python-whois) (1.16.0)\n"
     ]
    }
   ],
   "source": [
    "!pip install python-whois"
   ]
  },
  {
   "cell_type": "markdown",
   "id": "710e582a-e35a-40bc-8057-164dbd1384e9",
   "metadata": {},
   "source": [
    "#### WHOIS is a protocol used to get information about registered domain names. When you register a domain like example.com, your information (name, email, registrar, registration/expiry dates, etc.) is stored in a public database that can be queried using WHOIS."
   ]
  },
  {
   "cell_type": "code",
   "execution_count": 39,
   "id": "3435a709-c9b5-46e1-a0f5-9c3a21b2f69f",
   "metadata": {},
   "outputs": [],
   "source": [
    "from bs4 import BeautifulSoup # library for web scraping\n",
    "import whois\n",
    "import urllib\n",
    "import urllib.request\n",
    "from datetime import datetime"
   ]
  },
  {
   "cell_type": "code",
   "execution_count": 40,
   "id": "07529d07-a940-42ff-a615-22da4a878774",
   "metadata": {},
   "outputs": [],
   "source": [
    "#1. DNS record\n",
    "#For phishing websites, either the claimed identity is not recognized by the \n",
    "#WHOIS database or no records founded for the hostname\n",
    "  \n",
    "# 11.DNS Record availability (DNS_Record)\n",
    "# obtained in the featureExtraction function itself"
   ]
  },
  {
   "cell_type": "code",
   "execution_count": 41,
   "id": "496d28c2-be7a-4be1-9abd-da5a4e46891c",
   "metadata": {},
   "outputs": [],
   "source": [
    "#2 Web Traffic\n",
    "#If the domain has no traffic or is not recognized by the Alexa database, it is classified as “Phishing”.\n",
    "\n",
    "import requests\n",
    "\n",
    "def web_traffic(url):\n",
    "    try:\n",
    "        # Add scheme if missing\n",
    "        if not url.startswith(('http://', 'https://')):\n",
    "            url = 'http://' + url\n",
    "\n",
    "        # Try connecting to the domain\n",
    "        response = requests.get(url, timeout=5)\n",
    "\n",
    "        # If HTTP status is OK (200–399), it's likely legitimate\n",
    "        if response.status_code < 400:\n",
    "            return 0  \n",
    "        else:\n",
    "            return 1  \n",
    "    except requests.RequestException as e:\n",
    "        print(\"Connection error:\", e)\n",
    "        return 1  \n"
   ]
  },
  {
   "cell_type": "code",
   "execution_count": 42,
   "id": "649f433d-98c5-49f2-8786-8f00b5933188",
   "metadata": {},
   "outputs": [
    {
     "name": "stdout",
     "output_type": "stream",
     "text": [
      "0\n"
     ]
    }
   ],
   "source": [
    "print(web_traffic(\"https://www.wikipedia.org\")) "
   ]
  },
  {
   "cell_type": "code",
   "execution_count": 43,
   "id": "cc899779-27fd-4a43-838b-fe3885874878",
   "metadata": {},
   "outputs": [],
   "source": [
    "#3 Age of Domain\n",
    "# The minimum age of the legitimate domain is considered to be 12 months for this project. Age here is nothing but different between creation and expiration time.\n",
    "# If age of domain > 12 months, the vlaue of this feature is 1 (phishing) else 0 (legitimate).\n",
    "\n",
    "def domainAge(domain_info):\n",
    "    creation_date = domain_info.creation_date\n",
    "    expiration_date = domain_info.expiration_date\n",
    "\n",
    "    # Handle lists by picking the first date\n",
    "    if isinstance(creation_date, list):\n",
    "        creation_date = creation_date[0]\n",
    "    if isinstance(expiration_date, list):\n",
    "        expiration_date = expiration_date[0]\n",
    "\n",
    "    if isinstance(creation_date, str):\n",
    "        try:\n",
    "            creation_date = datetime.strptime(creation_date, \"%Y-%m-%d\")\n",
    "        except:\n",
    "            return 1\n",
    "    if isinstance(expiration_date, str):\n",
    "        try:\n",
    "            expiration_date = datetime.strptime(expiration_date, \"%Y-%m-%d\")\n",
    "        except:\n",
    "            return 1\n",
    "\n",
    "    if creation_date is None or expiration_date is None:\n",
    "        return 1\n",
    "    age_in_days = abs((expiration_date - creation_date).days)\n",
    "\n",
    "    return 1 if (age_in_days / 30) < 12 else 0\n"
   ]
  },
  {
   "cell_type": "code",
   "execution_count": 44,
   "id": "7dc1a6bc-68f3-4c44-9fea-89859cf8e0a3",
   "metadata": {},
   "outputs": [
    {
     "name": "stdout",
     "output_type": "stream",
     "text": [
      "0\n"
     ]
    }
   ],
   "source": [
    "# Usage\n",
    "domain = \"wikipedia.org\" \n",
    "info = whois.whois(domain)\n",
    "print(domainAge(info))"
   ]
  },
  {
   "cell_type": "code",
   "execution_count": 45,
   "id": "09b33b21-8142-4c55-a404-c9cfbb1caa15",
   "metadata": {},
   "outputs": [],
   "source": [
    "#4 end period of domain\n",
    "\n",
    "def domainEnd(domain_name):\n",
    "    expiration_date = domain_name.expiration_date\n",
    "\n",
    "    if isinstance(expiration_date, list):\n",
    "        expiration_date = expiration_date[0]\n",
    "\n",
    "    if expiration_date is None:\n",
    "        return 1  \n",
    "\n",
    "    if isinstance(expiration_date, str):\n",
    "        try:\n",
    "            expiration_date = datetime.strptime(expiration_date, \"%Y-%m-%d\")\n",
    "        except:\n",
    "            return 1  # Invalid format, treat as suspicious\n",
    "\n",
    "    #  SAFETY CHECK before subtraction\n",
    "    if expiration_date is None:\n",
    "        return 1\n",
    "\n",
    "    try:\n",
    "        exp_in_days = (expiration_date - datetime.now()).days\n",
    "    except:\n",
    "        return 1 \n",
    "\n",
    "    return 1 if (exp_in_days / 30) < 6 else 0\n",
    "\n"
   ]
  },
  {
   "cell_type": "code",
   "execution_count": 46,
   "id": "74187572-a0c7-42f5-bca4-7e6264b783f2",
   "metadata": {},
   "outputs": [
    {
     "name": "stdout",
     "output_type": "stream",
     "text": [
      "0\n"
     ]
    }
   ],
   "source": [
    "#example\n",
    "domain = \"wikipedia.org\" \n",
    "info = whois.whois(domain)\n",
    "print(domainEnd(info))"
   ]
  },
  {
   "cell_type": "markdown",
   "id": "6a5e46bd-6568-484b-a6ea-9e11845716b4",
   "metadata": {},
   "source": [
    "## 3.3 HTML and JavaScript based Features\n",
    "\n",
    "- IFrame Redirection\n",
    "- Status Bar Customization\n",
    "- Disabling Right Click\n",
    "- Website Forwarding"
   ]
  },
  {
   "cell_type": "code",
   "execution_count": 48,
   "id": "41c2180b-87d8-4553-b16d-16ec7a0b4ed1",
   "metadata": {},
   "outputs": [],
   "source": [
    "import requests"
   ]
  },
  {
   "cell_type": "code",
   "execution_count": 49,
   "id": "a175e4a3-af67-404f-9fe8-a317b83464a5",
   "metadata": {},
   "outputs": [],
   "source": [
    "#1 IFrame redirection\n",
    "# IFrame is an HTML tag used to display an additional webpage into one that is currently shown.\n",
    "\n",
    "\n",
    "def iframe(response):\n",
    "    if not response or not hasattr(response, \"text\"):\n",
    "        return 1 \n",
    "    \n",
    "    if re.findall(r\"<iframe\", response.text, re.IGNORECASE):\n",
    "        return 1 \n",
    "    else:\n",
    "        return 0 \n"
   ]
  },
  {
   "cell_type": "code",
   "execution_count": 50,
   "id": "d95727c3-abea-4d6a-8211-cc6f7a5c5d6b",
   "metadata": {},
   "outputs": [],
   "source": [
    "#2. Status bar customization\n",
    "# Phishers may use JavaScript to show a fake URL in the status bar to users. To extract this feature\n",
    "\n",
    "def mouseOver(response):\n",
    "    if not response or not hasattr(response, \"text\"):\n",
    "        return 1  # Treat as suspicious if we can't check\n",
    "    # Check for onmouseover JS trick (used in phishing to hide links)\n",
    "    if re.findall(r\"onmouseover\\s*=\\s*\\\"?window\\.status\", response.text, re.IGNORECASE):\n",
    "        return 1  # Suspicious\n",
    "    return 0  # Safe\n"
   ]
  },
  {
   "cell_type": "code",
   "execution_count": 51,
   "id": "0cbabf1e-b7e0-4251-9430-6053f6cf7391",
   "metadata": {},
   "outputs": [],
   "source": [
    "#3. Disabling Right Click\n",
    "# Phishers use JavaScript to disable the right-click function, so that users cannot view and save the webpage source code. This feature is treated exactly as “Using onMouseOver to hide the Link”.\n",
    "\n",
    "def rightClick(response):\n",
    "    if not response or not hasattr(response, \"text\"):\n",
    "        return 1  # Treat as suspicious if no response\n",
    "    # Check for JS blocking right-click\n",
    "    if re.findall(r\"event\\.button ?== ?2\", response.text):\n",
    "        return 0 \n",
    "    else:\n",
    "        return 1 "
   ]
  },
  {
   "cell_type": "code",
   "execution_count": 52,
   "id": "f804667f-f8a7-49a7-b8d1-16fc0bd998a7",
   "metadata": {},
   "outputs": [],
   "source": [
    "#4. Website Forwarding\n",
    "def forwarding(response):\n",
    "    if not response or not hasattr(response, \"history\"):\n",
    "        return 1  \n",
    "    if len(response.history) <= 2:\n",
    "        return 0  \n",
    "    else:\n",
    "        return 1  \n"
   ]
  },
  {
   "cell_type": "markdown",
   "id": "82a9262e-17e9-45a7-8f60-3f65f41dac51",
   "metadata": {},
   "source": [
    "# 4. Computing URL Features"
   ]
  },
  {
   "cell_type": "code",
   "execution_count": 54,
   "id": "4d3ebd0c-9f2c-4c32-827f-d78f9d5e00d1",
   "metadata": {},
   "outputs": [],
   "source": [
    "# Function to extract features\n",
    "\n",
    "def featureExtraction(url, label):\n",
    "    features = []\n",
    "    \n",
    "    #Address bar based features\n",
    "    features.append(getDomain(url))\n",
    "    features.append(havingIp(url))\n",
    "    features.append(haveAtSign(url))\n",
    "    features.append(getLength(url))\n",
    "    features.append(getDepth(url))\n",
    "    features.append(redirection(url))\n",
    "    features.append(httpDomain(url))\n",
    "    features.append(tinyURL(url))\n",
    "    features.append(prefixSuffix(url))\n",
    "    \n",
    "      \n",
    "\n",
    "    #Domain based features(4)\n",
    "    dns = 0\n",
    "    try:\n",
    "        domain_name = whois.whois(urlparse(url).netloc)\n",
    "    except:\n",
    "        dns = 1\n",
    "    features.append(dns)\n",
    "    features.append(web_traffic(url))\n",
    "    features.append(1 if dns == 1 else domainAge(domain_name))\n",
    "    features.append(1 if dns == 1 else domainEnd(domain_name))\n",
    "\n",
    "    #HTML & Javascript based features(4)\n",
    "    try:\n",
    "        response = requests.get(url)\n",
    "    except:\n",
    "        response = None\n",
    "    features.append(iframe(response))\n",
    "    features.append(mouseOver(response))\n",
    "    features.append(rightClick(response))\n",
    "    features.append(forwarding(response))\n",
    "    features.append(label)\n",
    "    return features"
   ]
  },
  {
   "cell_type": "code",
   "execution_count": 55,
   "id": "4c412ebe-3e58-494a-97fa-fd965e246c86",
   "metadata": {},
   "outputs": [
    {
     "name": "stdout",
     "output_type": "stream",
     "text": [
      "['youtube.com', 0, 0, 0, 0, 0, 0, 0, 0, 0, 0, 0, 0, 1, 0, 1, 0, 0]\n"
     ]
    }
   ],
   "source": [
    "print(featureExtraction(\"https://www.youtube.com\",0))"
   ]
  },
  {
   "cell_type": "markdown",
   "id": "de75464a-cd54-459c-9685-0d0fd864aef9",
   "metadata": {},
   "source": [
    "## 4.1 Legitimate URLs:\n",
    "\n",
    "feature extraction on legitimate URLs"
   ]
  },
  {
   "cell_type": "code",
   "execution_count": 57,
   "id": "91a47e98-399e-47e4-aea3-158c0bef1bca",
   "metadata": {},
   "outputs": [
    {
     "data": {
      "text/plain": [
       "(5000, 1)"
      ]
     },
     "execution_count": 57,
     "metadata": {},
     "output_type": "execute_result"
    }
   ],
   "source": [
    "legiurl.shape"
   ]
  },
  {
   "cell_type": "code",
   "execution_count": 58,
   "id": "c4de2a36-c55e-4c4a-bf48-9ab6f97d155a",
   "metadata": {},
   "outputs": [
    {
     "ename": "NameError",
     "evalue": "name 'extract_features' is not defined",
     "output_type": "error",
     "traceback": [
      "\u001b[1;31m---------------------------------------------------------------------------\u001b[0m",
      "\u001b[1;31mNameError\u001b[0m                                 Traceback (most recent call last)",
      "Cell \u001b[1;32mIn[58], line 1\u001b[0m\n\u001b[1;32m----> 1\u001b[0m features \u001b[38;5;241m=\u001b[39m extract_features(\u001b[38;5;124m\"\u001b[39m\u001b[38;5;124mhttps://www.wikipedia.org\u001b[39m\u001b[38;5;124m\"\u001b[39m)\n",
      "\u001b[1;31mNameError\u001b[0m: name 'extract_features' is not defined"
     ]
    }
   ],
   "source": [
    "features = extract_features(\"https://www.wikipedia.org\")  # same logic\n"
   ]
  },
  {
   "cell_type": "code",
   "execution_count": null,
   "id": "06d58a05-2115-4afd-aa7e-7a4a16489bbe",
   "metadata": {},
   "outputs": [],
   "source": [
    "# legi_features = []\n",
    "# label = 0\n",
    "\n",
    "# for i in range (0,5000):\n",
    "#     url = legiurl['URLs'][i]\n",
    "#     legi_features.append(featureExtraction(url,label))"
   ]
  },
  {
   "cell_type": "code",
   "execution_count": null,
   "id": "459e7868-4be9-42a6-80a9-77e9921811f3",
   "metadata": {},
   "outputs": [],
   "source": []
  }
 ],
 "metadata": {
  "kernelspec": {
   "display_name": "Python [conda env:base] *",
   "language": "python",
   "name": "conda-base-py"
  },
  "language_info": {
   "codemirror_mode": {
    "name": "ipython",
    "version": 3
   },
   "file_extension": ".py",
   "mimetype": "text/x-python",
   "name": "python",
   "nbconvert_exporter": "python",
   "pygments_lexer": "ipython3",
   "version": "3.12.7"
  }
 },
 "nbformat": 4,
 "nbformat_minor": 5
}
